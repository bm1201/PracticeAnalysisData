{
 "cells": [
  {
   "cell_type": "markdown",
   "metadata": {},
   "source": [
    "## 주제 및 선정이유\n",
    "요즘 X세대부터 시작하여 Z세대까지 전부 주식시장에 대한 관심이 커지고 '빚투'라고 하여 빚을 내면서까지 주식에 투자를 하는 현상이 일어나고 있습니다. 저 또한 주식투자에 대해 관심을 가지게 되었고 직접투자도 하게 되었습니다. 그런데, 주변에서 주식은 패가망신의 지름길이라며 그런 도박은 하면 안된다는 이야기를 많이 들었습니다. 하지만 직적 해보면서 느낀 바로는 주식 투자라는 게 삶에 있어서 꼭 필요한 부분이고, 자신만의 규칙에 따라 안전하게 투자한다면 근로소득 말고 좋은 불로소득의 수단이 될 수 있을 것 같다는 생각을 했습니다. 많은 투자전문가들이 '투자에 정답은 없다. 다만 성공 확률을 높일 뿐이다.'라는 말을 많이 합니다. 그리하여, 어떻게 하면 주식투자의 성공 확률을 높일 수 있을지 다음과 같은 질문들을 해결해보면서 답을 찾아보았습니다."
   ]
  },
  {
   "cell_type": "markdown",
   "metadata": {},
   "source": [
    "## 금리"
   ]
  },
  {
   "cell_type": "code",
   "execution_count": 14,
   "metadata": {},
   "outputs": [],
   "source": [
    "import pandas as pd\n",
    "import numpy as np\n",
    "import matplotlib.pyplot as plt\n",
    "from matplotlib import font_manager,rc\n",
    "f_name = font_manager.FontProperties(fname = \"C:/Windows/Fonts/NGULIM.ttf\").get_name()\n",
    "rc('font', family = f_name)\n",
    "\n",
    "OECD = pd.read_csv(\"OECD금리.csv\", encoding = 'cp949')"
   ]
  },
  {
   "cell_type": "code",
   "execution_count": 15,
   "metadata": {},
   "outputs": [
    {
     "data": {
      "text/plain": [
       "(40, 19)"
      ]
     },
     "execution_count": 15,
     "metadata": {},
     "output_type": "execute_result"
    }
   ],
   "source": [
    "OECD.shape"
   ]
  },
  {
   "cell_type": "code",
   "execution_count": 16,
   "metadata": {},
   "outputs": [],
   "source": [
    "OECD_data = OECD.copy()"
   ]
  },
  {
   "cell_type": "code",
   "execution_count": 17,
   "metadata": {},
   "outputs": [
    {
     "data": {
      "text/html": [
       "<div>\n",
       "<style scoped>\n",
       "    .dataframe tbody tr th:only-of-type {\n",
       "        vertical-align: middle;\n",
       "    }\n",
       "\n",
       "    .dataframe tbody tr th {\n",
       "        vertical-align: top;\n",
       "    }\n",
       "\n",
       "    .dataframe thead th {\n",
       "        text-align: right;\n",
       "    }\n",
       "</style>\n",
       "<table border=\"1\" class=\"dataframe\">\n",
       "  <thead>\n",
       "    <tr style=\"text-align: right;\">\n",
       "      <th></th>\n",
       "      <th>한국</th>\n",
       "      <th>미국</th>\n",
       "    </tr>\n",
       "    <tr>\n",
       "      <th>연도</th>\n",
       "      <th></th>\n",
       "      <th></th>\n",
       "    </tr>\n",
       "  </thead>\n",
       "  <tbody>\n",
       "    <tr>\n",
       "      <th>2000</th>\n",
       "      <td>7.94</td>\n",
       "      <td>6.24</td>\n",
       "    </tr>\n",
       "    <tr>\n",
       "      <th>2001</th>\n",
       "      <td>5.79</td>\n",
       "      <td>3.89</td>\n",
       "    </tr>\n",
       "    <tr>\n",
       "      <th>2002</th>\n",
       "      <td>4.95</td>\n",
       "      <td>1.67</td>\n",
       "    </tr>\n",
       "    <tr>\n",
       "      <th>2003</th>\n",
       "      <td>4.25</td>\n",
       "      <td>1.13</td>\n",
       "    </tr>\n",
       "    <tr>\n",
       "      <th>2004</th>\n",
       "      <td>3.87</td>\n",
       "      <td>1.35</td>\n",
       "    </tr>\n",
       "  </tbody>\n",
       "</table>\n",
       "</div>"
      ],
      "text/plain": [
       "        한국    미국\n",
       "연도              \n",
       "2000  7.94  6.24\n",
       "2001  5.79  3.89\n",
       "2002  4.95  1.67\n",
       "2003  4.25  1.13\n",
       "2004  3.87  1.35"
      ]
     },
     "execution_count": 17,
     "metadata": {},
     "output_type": "execute_result"
    }
   ],
   "source": [
    "for i in range(20):\n",
    "    OECD_data = OECD_data.drop([i])\n",
    "\n",
    "OECD_data['연도'] = OECD_data['연도'].astype(str)\n",
    "OECD_data['한국'] = OECD_data['한국'].astype(float)\n",
    "df_OECD = OECD_data[['연도', '한국', '미국']]\n",
    "df_OECD = df_OECD.set_index('연도')\n",
    "df_OECD.head()"
   ]
  },
  {
   "cell_type": "markdown",
   "metadata": {},
   "source": [
    "## 코스피지수"
   ]
  },
  {
   "cell_type": "code",
   "execution_count": 25,
   "metadata": {},
   "outputs": [],
   "source": [
    "KOSPI = pd.read_csv(\"코스피지수1.csv\", encoding = 'cp949')"
   ]
  },
  {
   "cell_type": "code",
   "execution_count": 26,
   "metadata": {},
   "outputs": [
    {
     "data": {
      "text/plain": [
       "(248, 5)"
      ]
     },
     "execution_count": 26,
     "metadata": {},
     "output_type": "execute_result"
    }
   ],
   "source": [
    "KOSPI.shape"
   ]
  },
  {
   "cell_type": "code",
   "execution_count": 27,
   "metadata": {},
   "outputs": [],
   "source": [
    "KOSPI_data = KOSPI.copy()"
   ]
  },
  {
   "cell_type": "code",
   "execution_count": 28,
   "metadata": {},
   "outputs": [
    {
     "name": "stderr",
     "output_type": "stream",
     "text": [
      "<ipython-input-28-778133d15542>:2: SettingWithCopyWarning: \n",
      "A value is trying to be set on a copy of a slice from a DataFrame.\n",
      "Try using .loc[row_indexer,col_indexer] = value instead\n",
      "\n",
      "See the caveats in the documentation: https://pandas.pydata.org/pandas-docs/stable/user_guide/indexing.html#returning-a-view-versus-a-copy\n",
      "  df_KOSPI['연도'] = df_KOSPI['연도'].astype(str)\n"
     ]
    }
   ],
   "source": [
    "df_KOSPI = KOSPI_data[['연도', '평균']]\n",
    "df_KOSPI['연도'] = df_KOSPI['연도'].astype(str)\n",
    "df_KOSPI = df_KOSPI.set_index('연도')\n",
    "df_KOSPI['평균'] = df_KOSPI['평균'].str.replace(\",\",\"\")\n",
    "df_KOSPI['평균'] = df_KOSPI['평균'].astype(float)"
   ]
  },
  {
   "cell_type": "code",
   "execution_count": 29,
   "metadata": {},
   "outputs": [],
   "source": [
    "df_OECD_data = df_OECD.copy()\n",
    "df_KOSPI_data = df_KOSPI.copy()"
   ]
  },
  {
   "cell_type": "markdown",
   "metadata": {},
   "source": [
    "## 환율"
   ]
  },
  {
   "cell_type": "code",
   "execution_count": 49,
   "metadata": {},
   "outputs": [],
   "source": [
    "import pandas as pd\n",
    "import numpy as np\n",
    "import matplotlib.pyplot as plt\n",
    "from matplotlib import font_manager,rc\n",
    "f_name = font_manager.FontProperties(fname = \"C:/Windows/Fonts/NGULIM.ttf\").get_name()\n",
    "rc('font', family = f_name)\n",
    "Dollar = pd.read_csv(\"환율1.csv\", encoding = 'cp949')"
   ]
  },
  {
   "cell_type": "code",
   "execution_count": 50,
   "metadata": {},
   "outputs": [
    {
     "data": {
      "text/plain": [
       "(730, 49)"
      ]
     },
     "execution_count": 50,
     "metadata": {},
     "output_type": "execute_result"
    }
   ],
   "source": [
    "Dollar.shape"
   ]
  },
  {
   "cell_type": "code",
   "execution_count": 51,
   "metadata": {},
   "outputs": [],
   "source": [
    "Dollar_data = Dollar.copy()"
   ]
  },
  {
   "cell_type": "code",
   "execution_count": 52,
   "metadata": {},
   "outputs": [],
   "source": [
    "for i in range(480):\n",
    "    Dollar_data = Dollar_data.drop(i)\n",
    "Dollar_data_Korea = Dollar_data[['연도', '한국']]\n",
    "Dollar_data_Korea = Dollar_data_Korea.set_index('연도')"
   ]
  },
  {
   "cell_type": "markdown",
   "metadata": {},
   "source": [
    "## 통화량"
   ]
  },
  {
   "cell_type": "code",
   "execution_count": 3,
   "metadata": {},
   "outputs": [],
   "source": [
    "import pandas as pd\n",
    "import numpy as np\n",
    "import matplotlib.pyplot as plt\n",
    "from matplotlib import font_manager,rc\n",
    "f_name = font_manager.FontProperties(fname = \"C:/Windows/Fonts/NGULIM.ttf\").get_name()\n",
    "rc('font', family = f_name)\n",
    "Money = pd.read_csv(\"통화량1.csv\", encoding = 'cp949')"
   ]
  },
  {
   "cell_type": "code",
   "execution_count": 4,
   "metadata": {},
   "outputs": [
    {
     "data": {
      "text/plain": [
       "(729, 28)"
      ]
     },
     "execution_count": 4,
     "metadata": {},
     "output_type": "execute_result"
    }
   ],
   "source": [
    "Money.shape"
   ]
  },
  {
   "cell_type": "code",
   "execution_count": 5,
   "metadata": {},
   "outputs": [],
   "source": [
    "Money_data = Money.copy()"
   ]
  },
  {
   "cell_type": "code",
   "execution_count": 7,
   "metadata": {},
   "outputs": [
    {
     "name": "stderr",
     "output_type": "stream",
     "text": [
      "<ipython-input-7-86f959206b16>:4: SettingWithCopyWarning: \n",
      "A value is trying to be set on a copy of a slice from a DataFrame.\n",
      "Try using .loc[row_indexer,col_indexer] = value instead\n",
      "\n",
      "See the caveats in the documentation: https://pandas.pydata.org/pandas-docs/stable/user_guide/indexing.html#returning-a-view-versus-a-copy\n",
      "  Money_data_korea['연도'] = Money_data_korea['연도'].astype(str)\n",
      "<ipython-input-7-86f959206b16>:5: SettingWithCopyWarning: \n",
      "A value is trying to be set on a copy of a slice from a DataFrame.\n",
      "Try using .loc[row_indexer,col_indexer] = value instead\n",
      "\n",
      "See the caveats in the documentation: https://pandas.pydata.org/pandas-docs/stable/user_guide/indexing.html#returning-a-view-versus-a-copy\n",
      "  Money_data_korea['화폐발행잔액(평잔) (십억원)'] = Money_data_korea['화폐발행잔액(평잔) (십억원)'].str.replace(',','')\n",
      "<ipython-input-7-86f959206b16>:6: SettingWithCopyWarning: \n",
      "A value is trying to be set on a copy of a slice from a DataFrame.\n",
      "Try using .loc[row_indexer,col_indexer] = value instead\n",
      "\n",
      "See the caveats in the documentation: https://pandas.pydata.org/pandas-docs/stable/user_guide/indexing.html#returning-a-view-versus-a-copy\n",
      "  Money_data_korea['화폐발행잔액(평잔) (십억원)'] = Money_data_korea['화폐발행잔액(평잔) (십억원)'].astype(float)\n"
     ]
    }
   ],
   "source": [
    "for i in range(480):\n",
    "    Money_data = Money_data.drop(i)\n",
    "Money_data_korea = Money_data[['연도', '화폐발행잔액(평잔) (십억원)']]\n",
    "Money_data_korea['연도'] = Money_data_korea['연도'].astype(str)\n",
    "Money_data_korea['화폐발행잔액(평잔) (십억원)'] = Money_data_korea['화폐발행잔액(평잔) (십억원)'].str.replace(',','')\n",
    "Money_data_korea['화폐발행잔액(평잔) (십억원)'] = Money_data_korea['화폐발행잔액(평잔) (십억원)'].astype(float)\n",
    "Money_data_korea = Money_data_korea.set_index('연도')"
   ]
  },
  {
   "cell_type": "markdown",
   "metadata": {},
   "source": [
    "## 데이터 자료\n",
    "1. 금리 : df_OECD_data\n",
    "2. 우리나라 코스피 : df_KOSPI_data\n",
    "3. 환율 : Dollar_data_Korea\n",
    "4. 통화량 : Money_data_korea"
   ]
  },
  {
   "cell_type": "markdown",
   "metadata": {},
   "source": [
    "## 1. 요즘에 왜 위험자산이 인기가 많을까?\n",
    "예상) 미국 금리에 맞추어 우리나라의 금리도 계속해서 낮아지고 있고 정부에서 발행하는 평균 화폐량이 계속 증가하고 있기 때문에 화폐의 가치도 계속해서 낮아지고 있습니다. 또한 금리가 낮아져 은행에 돈을 저축하면 이자를 거의 받지 못하기 때문에 이자보다 더 돈을 벌 수 있는 부동산이나 주식같은 위험자산에 투자하는 사람들이 늘어나고 있다고 생각하였습니다."
   ]
  },
  {
   "cell_type": "code",
   "execution_count": 40,
   "metadata": {},
   "outputs": [
    {
     "data": {
      "text/plain": [
       "<matplotlib.axes._subplots.AxesSubplot at 0x146c881c6a0>"
      ]
     },
     "execution_count": 40,
     "metadata": {},
     "output_type": "execute_result"
    },
    {
     "data": {
      "image/png": "[encoded data removed]",
      "text/plain": [
       "<Figure size 720x360 with 1 Axes>"
      ]
     },
     "metadata": {
      "needs_background": "light"
     },
     "output_type": "display_data"
    }
   ],
   "source": [
    "df_OECD_data.plot(kind = 'bar', figsize = (10, 5))"
   ]
  },
  {
   "cell_type": "code",
   "execution_count": 8,
   "metadata": {},
   "outputs": [
    {
     "data": {
      "text/plain": [
       "<matplotlib.axes._subplots.AxesSubplot at 0x2026dc2fc10>"
      ]
     },
     "execution_count": 8,
     "metadata": {},
     "output_type": "execute_result"
    },
    {
     "data": {
      "image/png": "[encoded data removed]",
      "text/plain": [
       "<Figure size 432x288 with 1 Axes>"
      ]
     },
     "metadata": {
      "needs_background": "light"
     },
     "output_type": "display_data"
    }
   ],
   "source": [
    "Money_data_korea.plot()"
   ]
  },
  {
   "cell_type": "markdown",
   "metadata": {},
   "source": [
    "## 그래프 분석 후 결론\n",
    "예상대로 금리는 계속해서 하락하고 정부에서 발행하는 화폐량은 급속도로 증가하고 있기 때문에 화폐의 가치는 계속해서 떨어지고 있었습니다. 그러므로 자산을 화폐로 가지고 있는것보다 금, 주식, 부동산 등의 형태로 보유하고 있는 것이 이득이라는 것을 알 수 있었습니다. 그리하여 많은 사람들이 요즘 위험자산에 투자를 많이 하고 있다는 생각을 하였습니다."
   ]
  },
  {
   "cell_type": "markdown",
   "metadata": {},
   "source": [
    "## 2. 환율이 떨어질 때 우리나라 주식을 사는 게 이득일까?\n",
    "예상) 환율이 떨어지면 원화의 가치가 상승하고 달러의 가치는 하락하기 때문에 외국인들이 국내회사에 투자를 더 많이 할 것이고 그 때 투자를 하면 돈을 벌 확률이 올라것이라고 생각하였습니다."
   ]
  },
  {
   "cell_type": "code",
   "execution_count": 53,
   "metadata": {},
   "outputs": [
    {
     "data": {
      "text/plain": [
       "<matplotlib.axes._subplots.AxesSubplot at 0x2026f667760>"
      ]
     },
     "execution_count": 53,
     "metadata": {},
     "output_type": "execute_result"
    },
    {
     "data": {
      "image/png": "[encoded data removed]",
      "text/plain": [
       "<Figure size 432x288 with 1 Axes>"
      ]
     },
     "metadata": {
      "needs_background": "light"
     },
     "output_type": "display_data"
    },
    {
     "data": {
      "image/png": "[encoded data removed]",
      "text/plain": [
       "<Figure size 432x288 with 1 Axes>"
      ]
     },
     "metadata": {
      "needs_background": "light"
     },
     "output_type": "display_data"
    }
   ],
   "source": [
    "df_KOSPI_data.plot()\n",
    "Dollar_data_Korea.plot()"
   ]
  },
  {
   "cell_type": "markdown",
   "metadata": {},
   "source": [
    "## 그래프 분석 후 결론\n",
    "환율과 코스피지수가 동일하게 움직인다고 할 수는 없었습니다. 하지만 특정부분에서는 환율과 코스피지수가 동일하게 움직이고 어느정도는 비슷하게 움직인다는 것을 알 수 있었습니다. 그러므로 환율이 하락할 때 국내기업에 투자를 한다면 투자가 성공할 확률이 분명히 높겠다는 생각을 하였습니다."
   ]
  },
  {
   "cell_type": "markdown",
   "metadata": {},
   "source": [
    "## 결론\n",
    "위의 데이터들을 분석해본 후 든 생각은 지금은 은행에 투자하기 보다는 다른 곳에 투자하여 자산을 화폐가 아닌 다른 형태로 가지고 있는 것이 훨씬 좋다는 생각이 들었습니다. 그리하여 저는 평생 꾸준히 투자를 해볼 생각이고 환율이 하락하고 금리가 떨어질 때 주식에 투자하는 비중을 늘린다면 훨씬 성공적인 투자를 할 수 있겠다는 생각이 들었습니다."
   ]
  }
 ],
 "metadata": {
  "kernelspec": {
   "display_name": "Python 3",
   "language": "python",
   "name": "python3"
  },
  "language_info": {
   "codemirror_mode": {
    "name": "ipython",
    "version": 3
   },
   "file_extension": ".py",
   "mimetype": "text/x-python",
   "name": "python",
   "nbconvert_exporter": "python",
   "pygments_lexer": "ipython3",
   "version": "3.8.3"
  }
 },
 "nbformat": 4,
 "nbformat_minor": 4
}
